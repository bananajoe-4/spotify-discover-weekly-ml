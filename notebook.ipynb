{
 "cells": [
  {
   "cell_type": "code",
   "execution_count": 4,
   "metadata": {},
   "outputs": [],
   "source": [
    "import pandas as pd #Dataframe, Series\n",
    "import numpy as np\n",
    "\n",
    "from sklearn import tree\n",
    "from sklearn.tree import DecisionTreeClassifier\n",
    "from sklearn.model_selection import train_test_split\n",
    "\n",
    "from matplotlib import pyplot as plt\n",
    "import seaborn as sns\n",
    "\n",
    "import graphviz\n",
    "import pydotplus\n",
    "import io\n",
    "\n",
    "from scipy import misc\n",
    "\n",
    "from sklearn.metrics import accuracy_score\n",
    "\n",
    "import spotipy\n",
    "import spotipy.util as util\n",
    "sp = spotipy.Spotify() \n",
    "from spotipy.oauth2 import SpotifyClientCredentials \n",
    "\n",
    "%matplotlib inline"
   ]
  },
  {
   "cell_type": "markdown",
   "metadata": {},
   "source": [
    "### Login"
   ]
  },
  {
   "cell_type": "code",
   "execution_count": 40,
   "metadata": {},
   "outputs": [],
   "source": [
    "import spotipy\n",
    "from spotipy.oauth2 import SpotifyClientCredentials\n",
    "import spotipy.util as util\n",
    "\n",
    "client_id = '164fe11263da4ce8b39cb03311385ce6'\n",
    "client_secret = '448a0146206e4b718e4bcc0865efcd29'\n",
    "redirect_uri='http://localhost:8080/callback'\n",
    "username = '5865b9eadfc54092'\n",
    "scope = \"user-library-read\",\"playlist-modify-private\"\n",
    "\n",
    "\n",
    "#Credentials to access the Spotify Music Data\n",
    "from spotipy.oauth2 import SpotifyOAuth\n",
    "import spotipy\n",
    "\n",
    "sp = spotipy.Spotify(auth_manager=SpotifyOAuth(client_id,\n",
    "                                               client_secret,\n",
    "                                               redirect_uri,\n",
    "                                               scope = 'user-library-read playlist-read-private'))"
   ]
  },
  {
   "cell_type": "markdown",
   "metadata": {},
   "source": [
    "### Input Data into Model\n",
    "\n",
    "- gathering good and bad playlists\n",
    "- The method signature is sp.user_playlist('user', 'playlist_id')\n",
    "- To do this go to your good and bad playlists and copy the links.\n",
    "    - An example spotify link: https://open.spotify.com/user/1287242681/playlist/5OdH7PmotfAO7qDGxKdw3J\n",
    "    - The user is the number after user/ and the playlist id is after the playlist/."
   ]
  },
  {
   "cell_type": "code",
   "execution_count": 6,
   "metadata": {},
   "outputs": [],
   "source": [
    "good_playlist = sp.user_playlist(\"baacf740f3a541f9\", \"49fIpD0ywwbKeJoN6OfmgW\")\n",
    "# https://open.spotify.com/playlist/49fIpD0ywwbKeJoN6OfmgW?si=ac7c01e1a19d4cf1\n",
    "bad_playlist = sp.user_playlist(\"baacf740f3a541f9\", \"12w4Scq6FS8FMvKBtAh2S9\")\n",
    "# https://open.spotify.com/playlist/12w4Scq6FS8FMvKBtAh2S9?si=88fb8685585a4d97"
   ]
  },
  {
   "cell_type": "code",
   "execution_count": 7,
   "metadata": {},
   "outputs": [
    {
     "name": "stdout",
     "output_type": "stream",
     "text": [
      "799\n"
     ]
    }
   ],
   "source": [
    "#Get the good song id's out of the good playlists, need it for the audio features call.\n",
    "good_tracks = good_playlist[\"tracks\"]\n",
    "good_songs = good_tracks[\"items\"] \n",
    "while good_tracks['next']:\n",
    "    good_tracks = sp.next(good_tracks)\n",
    "    for item in good_tracks[\"items\"]:\n",
    "        good_songs.append(item)\n",
    "good_ids = [] \n",
    "print(len(good_songs))\n",
    "for i in range(len(good_songs)- 500):\n",
    "    good_ids.append(good_songs[i]['track']['id'])\n",
    "# good_tracks"
   ]
  },
  {
   "cell_type": "code",
   "execution_count": 8,
   "metadata": {},
   "outputs": [
    {
     "name": "stdout",
     "output_type": "stream",
     "text": [
      "281\n"
     ]
    }
   ],
   "source": [
    "#Now do the same thing for the bad playlist\n",
    "bad_tracks = bad_playlist[\"tracks\"]\n",
    "bad_songs = bad_tracks[\"items\"] \n",
    "while bad_tracks['next']:\n",
    "    bad_tracks = sp.next(bad_tracks)\n",
    "    for item in bad_tracks[\"items\"]:\n",
    "        bad_songs.append(item)\n",
    "bad_ids = [] \n",
    "print(len(bad_songs))\n",
    "for i in range(len(bad_songs)):\n",
    "    bad_ids.append(bad_songs[i]['track']['id'])"
   ]
  },
  {
   "cell_type": "code",
   "execution_count": 9,
   "metadata": {},
   "outputs": [
    {
     "name": "stdout",
     "output_type": "stream",
     "text": [
      "0\n",
      "50\n",
      "100\n",
      "150\n",
      "200\n",
      "250\n"
     ]
    }
   ],
   "source": [
    "#Here is where we get all of the audio_features for the tracks on the good and bad playlists.\n",
    "features = []\n",
    "inSavedTracks = []\n",
    "j = 0\n",
    "for i in range(0,len(good_ids),50):\n",
    "    print(i)\n",
    "    audio_features = sp.audio_features(good_ids[i:i+50])\n",
    "    for track in audio_features:\n",
    "        features.append(track)\n",
    "        track = good_songs[j]\n",
    "        j= j+1\n",
    "        features[-1]['trackPopularity'] = track['track']['popularity']\n",
    "        features[-1]['artistPopularity'] = sp.artist(track['track']['artists'][0]['id'])['popularity']\n",
    "        features[-1]['target'] = 1\n",
    "j = 0\n",
    "for i in range(0,len(bad_ids),50):\n",
    "    audio_features = sp.audio_features(bad_ids[i:i+50])\n",
    "    for track in audio_features:\n",
    "        features.append(track)\n",
    "        track = good_songs[j]\n",
    "        j= j+1\n",
    "        features[-1]['trackPopularity'] = track['track']['popularity']\n",
    "        features[-1]['artistPopularity'] = sp.artist(track['track']['artists'][0]['id'])['popularity']\n",
    "        features[-1]['target'] = 0"
   ]
  },
  {
   "cell_type": "code",
   "execution_count": 10,
   "metadata": {},
   "outputs": [
    {
     "data": {
      "text/html": [
       "<div>\n",
       "<style scoped>\n",
       "    .dataframe tbody tr th:only-of-type {\n",
       "        vertical-align: middle;\n",
       "    }\n",
       "\n",
       "    .dataframe tbody tr th {\n",
       "        vertical-align: top;\n",
       "    }\n",
       "\n",
       "    .dataframe thead th {\n",
       "        text-align: right;\n",
       "    }\n",
       "</style>\n",
       "<table border=\"1\" class=\"dataframe\">\n",
       "  <thead>\n",
       "    <tr style=\"text-align: right;\">\n",
       "      <th></th>\n",
       "      <th>danceability</th>\n",
       "      <th>energy</th>\n",
       "      <th>key</th>\n",
       "      <th>loudness</th>\n",
       "      <th>mode</th>\n",
       "      <th>speechiness</th>\n",
       "      <th>acousticness</th>\n",
       "      <th>instrumentalness</th>\n",
       "      <th>liveness</th>\n",
       "      <th>valence</th>\n",
       "      <th>...</th>\n",
       "      <th>type</th>\n",
       "      <th>id</th>\n",
       "      <th>uri</th>\n",
       "      <th>track_href</th>\n",
       "      <th>analysis_url</th>\n",
       "      <th>duration_ms</th>\n",
       "      <th>time_signature</th>\n",
       "      <th>trackPopularity</th>\n",
       "      <th>artistPopularity</th>\n",
       "      <th>target</th>\n",
       "    </tr>\n",
       "  </thead>\n",
       "  <tbody>\n",
       "    <tr>\n",
       "      <th>0</th>\n",
       "      <td>0.829</td>\n",
       "      <td>0.512</td>\n",
       "      <td>6</td>\n",
       "      <td>-5.865</td>\n",
       "      <td>0</td>\n",
       "      <td>0.1870</td>\n",
       "      <td>0.49200</td>\n",
       "      <td>0.000000</td>\n",
       "      <td>0.120</td>\n",
       "      <td>0.638</td>\n",
       "      <td>...</td>\n",
       "      <td>audio_features</td>\n",
       "      <td>4XvcHTUfIlWfyJTRG0aqlo</td>\n",
       "      <td>spotify:track:4XvcHTUfIlWfyJTRG0aqlo</td>\n",
       "      <td>https://api.spotify.com/v1/tracks/4XvcHTUfIlWf...</td>\n",
       "      <td>https://api.spotify.com/v1/audio-analysis/4Xvc...</td>\n",
       "      <td>123987</td>\n",
       "      <td>4</td>\n",
       "      <td>83</td>\n",
       "      <td>75.0</td>\n",
       "      <td>1</td>\n",
       "    </tr>\n",
       "    <tr>\n",
       "      <th>1</th>\n",
       "      <td>0.526</td>\n",
       "      <td>0.606</td>\n",
       "      <td>5</td>\n",
       "      <td>-5.300</td>\n",
       "      <td>0</td>\n",
       "      <td>0.2590</td>\n",
       "      <td>0.15200</td>\n",
       "      <td>0.000002</td>\n",
       "      <td>0.194</td>\n",
       "      <td>0.492</td>\n",
       "      <td>...</td>\n",
       "      <td>audio_features</td>\n",
       "      <td>0vjeOZ3Ft5jvAi9SBFJm1j</td>\n",
       "      <td>spotify:track:0vjeOZ3Ft5jvAi9SBFJm1j</td>\n",
       "      <td>https://api.spotify.com/v1/tracks/0vjeOZ3Ft5jv...</td>\n",
       "      <td>https://api.spotify.com/v1/audio-analysis/0vje...</td>\n",
       "      <td>182667</td>\n",
       "      <td>4</td>\n",
       "      <td>89</td>\n",
       "      <td>88.0</td>\n",
       "      <td>1</td>\n",
       "    </tr>\n",
       "    <tr>\n",
       "      <th>2</th>\n",
       "      <td>0.878</td>\n",
       "      <td>0.714</td>\n",
       "      <td>8</td>\n",
       "      <td>-6.344</td>\n",
       "      <td>1</td>\n",
       "      <td>0.2390</td>\n",
       "      <td>0.05280</td>\n",
       "      <td>0.000008</td>\n",
       "      <td>0.143</td>\n",
       "      <td>0.636</td>\n",
       "      <td>...</td>\n",
       "      <td>audio_features</td>\n",
       "      <td>0JDsxnw0kjsXX1M6Vagzak</td>\n",
       "      <td>spotify:track:0JDsxnw0kjsXX1M6Vagzak</td>\n",
       "      <td>https://api.spotify.com/v1/tracks/0JDsxnw0kjsX...</td>\n",
       "      <td>https://api.spotify.com/v1/audio-analysis/0JDs...</td>\n",
       "      <td>195600</td>\n",
       "      <td>4</td>\n",
       "      <td>55</td>\n",
       "      <td>85.0</td>\n",
       "      <td>1</td>\n",
       "    </tr>\n",
       "    <tr>\n",
       "      <th>3</th>\n",
       "      <td>0.838</td>\n",
       "      <td>0.802</td>\n",
       "      <td>11</td>\n",
       "      <td>-3.639</td>\n",
       "      <td>0</td>\n",
       "      <td>0.0445</td>\n",
       "      <td>0.00592</td>\n",
       "      <td>0.003390</td>\n",
       "      <td>0.326</td>\n",
       "      <td>0.621</td>\n",
       "      <td>...</td>\n",
       "      <td>audio_features</td>\n",
       "      <td>23A29DEDxMZdwpl0ZRrMOk</td>\n",
       "      <td>spotify:track:23A29DEDxMZdwpl0ZRrMOk</td>\n",
       "      <td>https://api.spotify.com/v1/tracks/23A29DEDxMZd...</td>\n",
       "      <td>https://api.spotify.com/v1/audio-analysis/23A2...</td>\n",
       "      <td>137900</td>\n",
       "      <td>4</td>\n",
       "      <td>73</td>\n",
       "      <td>85.0</td>\n",
       "      <td>1</td>\n",
       "    </tr>\n",
       "    <tr>\n",
       "      <th>4</th>\n",
       "      <td>0.755</td>\n",
       "      <td>0.404</td>\n",
       "      <td>9</td>\n",
       "      <td>-6.404</td>\n",
       "      <td>0</td>\n",
       "      <td>0.0539</td>\n",
       "      <td>0.60600</td>\n",
       "      <td>0.000080</td>\n",
       "      <td>0.127</td>\n",
       "      <td>0.195</td>\n",
       "      <td>...</td>\n",
       "      <td>audio_features</td>\n",
       "      <td>1s9wSzybysJGkhRcgcgasN</td>\n",
       "      <td>spotify:track:1s9wSzybysJGkhRcgcgasN</td>\n",
       "      <td>https://api.spotify.com/v1/tracks/1s9wSzybysJG...</td>\n",
       "      <td>https://api.spotify.com/v1/audio-analysis/1s9w...</td>\n",
       "      <td>179424</td>\n",
       "      <td>4</td>\n",
       "      <td>57</td>\n",
       "      <td>62.0</td>\n",
       "      <td>1</td>\n",
       "    </tr>\n",
       "  </tbody>\n",
       "</table>\n",
       "<p>5 rows × 21 columns</p>\n",
       "</div>"
      ],
      "text/plain": [
       "   danceability  energy  key  loudness  mode  speechiness  acousticness  \\\n",
       "0         0.829   0.512    6    -5.865     0       0.1870       0.49200   \n",
       "1         0.526   0.606    5    -5.300     0       0.2590       0.15200   \n",
       "2         0.878   0.714    8    -6.344     1       0.2390       0.05280   \n",
       "3         0.838   0.802   11    -3.639     0       0.0445       0.00592   \n",
       "4         0.755   0.404    9    -6.404     0       0.0539       0.60600   \n",
       "\n",
       "   instrumentalness  liveness  valence  ...            type  \\\n",
       "0          0.000000     0.120    0.638  ...  audio_features   \n",
       "1          0.000002     0.194    0.492  ...  audio_features   \n",
       "2          0.000008     0.143    0.636  ...  audio_features   \n",
       "3          0.003390     0.326    0.621  ...  audio_features   \n",
       "4          0.000080     0.127    0.195  ...  audio_features   \n",
       "\n",
       "                       id                                   uri  \\\n",
       "0  4XvcHTUfIlWfyJTRG0aqlo  spotify:track:4XvcHTUfIlWfyJTRG0aqlo   \n",
       "1  0vjeOZ3Ft5jvAi9SBFJm1j  spotify:track:0vjeOZ3Ft5jvAi9SBFJm1j   \n",
       "2  0JDsxnw0kjsXX1M6Vagzak  spotify:track:0JDsxnw0kjsXX1M6Vagzak   \n",
       "3  23A29DEDxMZdwpl0ZRrMOk  spotify:track:23A29DEDxMZdwpl0ZRrMOk   \n",
       "4  1s9wSzybysJGkhRcgcgasN  spotify:track:1s9wSzybysJGkhRcgcgasN   \n",
       "\n",
       "                                          track_href  \\\n",
       "0  https://api.spotify.com/v1/tracks/4XvcHTUfIlWf...   \n",
       "1  https://api.spotify.com/v1/tracks/0vjeOZ3Ft5jv...   \n",
       "2  https://api.spotify.com/v1/tracks/0JDsxnw0kjsX...   \n",
       "3  https://api.spotify.com/v1/tracks/23A29DEDxMZd...   \n",
       "4  https://api.spotify.com/v1/tracks/1s9wSzybysJG...   \n",
       "\n",
       "                                        analysis_url duration_ms  \\\n",
       "0  https://api.spotify.com/v1/audio-analysis/4Xvc...      123987   \n",
       "1  https://api.spotify.com/v1/audio-analysis/0vje...      182667   \n",
       "2  https://api.spotify.com/v1/audio-analysis/0JDs...      195600   \n",
       "3  https://api.spotify.com/v1/audio-analysis/23A2...      137900   \n",
       "4  https://api.spotify.com/v1/audio-analysis/1s9w...      179424   \n",
       "\n",
       "   time_signature  trackPopularity  artistPopularity  target  \n",
       "0               4               83              75.0       1  \n",
       "1               4               89              88.0       1  \n",
       "2               4               55              85.0       1  \n",
       "3               4               73              85.0       1  \n",
       "4               4               57              62.0       1  \n",
       "\n",
       "[5 rows x 21 columns]"
      ]
     },
     "execution_count": 10,
     "metadata": {},
     "output_type": "execute_result"
    }
   ],
   "source": [
    "trainingData = pd.DataFrame(features)\n",
    "trainingData.head()"
   ]
  },
  {
   "cell_type": "code",
   "execution_count": 11,
   "metadata": {},
   "outputs": [
    {
     "name": "stdout",
     "output_type": "stream",
     "text": [
      "Training size: 493, Test size: 87\n"
     ]
    }
   ],
   "source": [
    "train, test = train_test_split(trainingData, test_size = 0.15)\n",
    "print(\"Training size: {}, Test size: {}\".format(len(train),len(test)))"
   ]
  },
  {
   "cell_type": "code",
   "execution_count": 12,
   "metadata": {},
   "outputs": [],
   "source": [
    "# Custom Color Palette for graphs\n",
    "red_blue = ['#19B5FE', '#EF4836']\n",
    "palette = sns.color_palette(red_blue)\n",
    "sns.set_palette(palette)\n",
    "sns.set_style('white')"
   ]
  },
  {
   "cell_type": "code",
   "execution_count": 13,
   "metadata": {},
   "outputs": [],
   "source": [
    "pos_tempo = trainingData[trainingData['target'] == 1]['tempo']\n",
    "neg_tempo = trainingData[trainingData['target'] == 0]['tempo']\n",
    "pos_dance = trainingData[trainingData['target'] == 1]['danceability']\n",
    "neg_dance = trainingData[trainingData['target'] == 0]['danceability']\n",
    "pos_duration = trainingData[trainingData['target'] == 1]['duration_ms']\n",
    "neg_duration = trainingData[trainingData['target'] == 0]['duration_ms']\n",
    "pos_loudness = trainingData[trainingData['target'] == 1]['loudness']\n",
    "neg_loudness = trainingData[trainingData['target'] == 0]['loudness']\n",
    "pos_speechiness = trainingData[trainingData['target'] == 1]['speechiness']\n",
    "neg_speechiness = trainingData[trainingData['target'] == 0]['speechiness']\n",
    "pos_valence = trainingData[trainingData['target'] == 1]['valence']\n",
    "neg_valence = trainingData[trainingData['target'] == 0]['valence']\n",
    "pos_energy = trainingData[trainingData['target'] == 1]['energy']\n",
    "neg_energy = trainingData[trainingData['target'] == 0]['energy']\n",
    "pos_acousticness = trainingData[trainingData['target'] == 1]['acousticness']\n",
    "neg_acousticness = trainingData[trainingData['target'] == 0]['acousticness']\n",
    "pos_key = trainingData[trainingData['target'] == 1]['key']\n",
    "neg_key = trainingData[trainingData['target'] == 0]['key']\n",
    "pos_instrumentalness = trainingData[trainingData['target'] == 1]['instrumentalness']\n",
    "neg_instrumentalness = trainingData[trainingData['target'] == 0]['instrumentalness']\n",
    "pos_popularity = trainingData[trainingData['target'] == 1]['trackPopularity']\n",
    "neg_popularity = trainingData[trainingData['target'] == 0]['trackPopularity']"
   ]
  },
  {
   "cell_type": "code",
   "execution_count": 14,
   "metadata": {},
   "outputs": [
    {
     "name": "stdout",
     "output_type": "stream",
     "text": [
      "0       80.511\n",
      "1      116.622\n",
      "2      150.029\n",
      "3      147.972\n",
      "4       99.012\n",
      "        ...   \n",
      "294    157.157\n",
      "295    100.021\n",
      "296    135.096\n",
      "297     82.011\n",
      "298     83.913\n",
      "Name: tempo, Length: 299, dtype: float64\n"
     ]
    }
   ],
   "source": [
    "print(pos_tempo)\n"
   ]
  },
  {
   "cell_type": "code",
   "execution_count": 15,
   "metadata": {},
   "outputs": [
    {
     "name": "stdout",
     "output_type": "stream",
     "text": [
      "299    115.966\n",
      "300    124.955\n",
      "301    128.054\n",
      "302    128.019\n",
      "303    119.986\n",
      "        ...   \n",
      "575    126.984\n",
      "576    140.036\n",
      "577    141.958\n",
      "578    135.942\n",
      "579    159.897\n",
      "Name: tempo, Length: 281, dtype: float64\n"
     ]
    }
   ],
   "source": [
    "print(neg_tempo)"
   ]
  },
  {
   "cell_type": "code",
   "execution_count": 16,
   "metadata": {},
   "outputs": [
    {
     "name": "stdout",
     "output_type": "stream",
     "text": [
      "0      83\n",
      "1      89\n",
      "2      55\n",
      "3      73\n",
      "4      57\n",
      "       ..\n",
      "294    14\n",
      "295    49\n",
      "296     0\n",
      "297    58\n",
      "298    65\n",
      "Name: trackPopularity, Length: 299, dtype: int64\n",
      "299    83\n",
      "300    89\n",
      "301    55\n",
      "302    73\n",
      "303    57\n",
      "       ..\n",
      "575     0\n",
      "576    29\n",
      "577    19\n",
      "578    45\n",
      "579     0\n",
      "Name: trackPopularity, Length: 281, dtype: int64\n"
     ]
    }
   ],
   "source": [
    "print(pos_popularity)\n",
    "print(neg_popularity)"
   ]
  },
  {
   "cell_type": "code",
   "execution_count": 17,
   "metadata": {},
   "outputs": [
    {
     "data": {
      "text/plain": [
       "<matplotlib.legend.Legend at 0x1a9d3c2cd90>"
      ]
     },
     "execution_count": 17,
     "metadata": {},
     "output_type": "execute_result"
    },
    {
     "data": {
      "image/png": "[encoded data removed]",
      "text/plain": [
       "<Figure size 864x576 with 1 Axes>"
      ]
     },
     "metadata": {},
     "output_type": "display_data"
    }
   ],
   "source": [
    "fig = plt.figure(figsize=(12,8))\n",
    "plt.title(\"Song Tempo Like / Dislike Distribution\")\n",
    "pos_tempo.hist(alpha=0.7, bins=30, label='positive')\n",
    "neg_tempo.hist(alpha=0.7, bins=30, label='negative')\n",
    "plt.legend(loc='upper right')"
   ]
  },
  {
   "cell_type": "code",
   "execution_count": 18,
   "metadata": {},
   "outputs": [
    {
     "data": {
      "text/plain": [
       "<matplotlib.legend.Legend at 0x1a9d5dd2ec0>"
      ]
     },
     "execution_count": 18,
     "metadata": {},
     "output_type": "execute_result"
    },
    {
     "data": {
      "image/png": "[encoded data removed]",
      "text/plain": [
       "<Figure size 864x576 with 1 Axes>"
      ]
     },
     "metadata": {},
     "output_type": "display_data"
    }
   ],
   "source": [
    "fig = plt.figure(figsize=(12,8))\n",
    "plt.title(\"Song Tempo Like / Dislike Distribution\")\n",
    "pos_dance.hist(alpha=0.7, bins=30, label='positive')\n",
    "neg_dance.hist(alpha=0.7, bins=30, label='negative')\n",
    "plt.legend(loc='upper right')"
   ]
  },
  {
   "cell_type": "code",
   "execution_count": 24,
   "metadata": {},
   "outputs": [
    {
     "data": {
      "text/plain": [
       "<AxesSubplot: >"
      ]
     },
     "execution_count": 24,
     "metadata": {},
     "output_type": "execute_result"
    },
    {
     "data": {
      "image/png": "[encoded data removed]",
      "text/plain": [
       "<Figure size 1080x1080 with 16 Axes>"
      ]
     },
     "metadata": {},
     "output_type": "display_data"
    }
   ],
   "source": [
    "fig2 = plt.figure(figsize=(15,15))\n",
    "\n",
    "#Danceability\n",
    "ax3 = fig2.add_subplot(331)\n",
    "ax3.set_xlabel('Danceability')\n",
    "ax3.set_ylabel('Count')\n",
    "ax3.set_title('Song Danceability Like Distribution')\n",
    "pos_dance.hist(alpha= 0.5, bins=30)\n",
    "ax4 = fig2.add_subplot(331)\n",
    "neg_dance.hist(alpha= 0.5, bins=30)\n",
    "\n",
    "#Duration_ms\n",
    "ax5 = fig2.add_subplot(332)\n",
    "ax5.set_xlabel('Duration')\n",
    "ax5.set_ylabel('Count')\n",
    "ax5.set_title('Song Duration Like Distribution')\n",
    "pos_duration.hist(alpha= 0.5, bins=30)\n",
    "ax6 = fig2.add_subplot(332)\n",
    "neg_duration.hist(alpha= 0.5, bins=30)\n",
    "\n",
    "#Loudness\n",
    "ax7 = fig2.add_subplot(333)\n",
    "ax7.set_xlabel('Loudness')\n",
    "ax7.set_ylabel('Count')\n",
    "ax7.set_title('Song Loudness Like Distribution')\n",
    "pos_loudness.hist(alpha= 0.5, bins=30)\n",
    "ax8 = fig2.add_subplot(333)\n",
    "neg_loudness.hist(alpha= 0.5, bins=30)\n",
    "\n",
    "#Speechiness\n",
    "ax9 = fig2.add_subplot(334)\n",
    "ax9.set_xlabel('Speechiness')\n",
    "ax9.set_ylabel('Count')\n",
    "ax9.set_title('Song Speechiness Like Distribution')\n",
    "pos_speechiness.hist(alpha= 0.5, bins=30)\n",
    "ax10 = fig2.add_subplot(334)\n",
    "neg_speechiness.hist(alpha= 0.5, bins=30)\n",
    "\n",
    "#Valence\n",
    "ax11 = fig2.add_subplot(335)\n",
    "ax11.set_xlabel('Valence')\n",
    "ax11.set_ylabel('Count')\n",
    "ax11.set_title('Song Valence Like Distribution')\n",
    "pos_valence.hist(alpha= 0.5, bins=30)\n",
    "ax12 = fig2.add_subplot(335)\n",
    "neg_valence.hist(alpha= 0.5, bins=30)\n",
    "\n",
    "#Energy\n",
    "ax13 = fig2.add_subplot(336)\n",
    "ax13.set_xlabel('Energy')\n",
    "ax13.set_ylabel('Count')\n",
    "ax13.set_title('Song Energy Like Distribution')\n",
    "pos_energy.hist(alpha= 0.5, bins=30)\n",
    "ax14 = fig2.add_subplot(336)\n",
    "neg_energy.hist(alpha= 0.5, bins=30)\n",
    "\n",
    "#Key\n",
    "ax15 = fig2.add_subplot(337)\n",
    "ax15.set_xlabel('Key')\n",
    "ax15.set_ylabel('Count')\n",
    "ax15.set_title('Song Key Like Distribution')\n",
    "pos_key.hist(alpha= 0.5, bins=30)\n",
    "ax16 = fig2.add_subplot(337)\n",
    "neg_key.hist(alpha= 0.5, bins=30)\n",
    "\n",
    "#Key\n",
    "ax15 = fig2.add_subplot(338)\n",
    "ax15.set_xlabel('Popularity')\n",
    "ax15.set_ylabel('Count')\n",
    "ax15.set_title('Popularity Distribution')\n",
    "pos_popularity.hist(alpha= 0.5, bins=30)\n",
    "ax16 = fig2.add_subplot(338)\n",
    "neg_popularity.hist(alpha= 0.5, bins=30)\n"
   ]
  },
  {
   "cell_type": "code",
   "execution_count": 25,
   "metadata": {},
   "outputs": [],
   "source": [
    "#Define the set of features that we want to look at\n",
    "features = [\"danceability\", \"loudness\", \"valence\", \"energy\", \"instrumentalness\", \"acousticness\", \"key\", \"speechiness\",\"duration_ms\"]"
   ]
  },
  {
   "cell_type": "code",
   "execution_count": 26,
   "metadata": {},
   "outputs": [],
   "source": [
    "#Split the data into x and y test and train sets to feed them into a bunch of classifiers!\n",
    "x_train = train[features]\n",
    "y_train = train[\"target\"]\n",
    "\n",
    "x_test = test[features]\n",
    "y_test = test[\"target\"]"
   ]
  },
  {
   "cell_type": "code",
   "execution_count": 27,
   "metadata": {},
   "outputs": [],
   "source": [
    "c = DecisionTreeClassifier(min_samples_split=100)\n",
    "dt = c.fit(x_train, y_train)"
   ]
  },
  {
   "cell_type": "code",
   "execution_count": 28,
   "metadata": {},
   "outputs": [
    {
     "ename": "InvocationException",
     "evalue": "GraphViz's executables not found",
     "output_type": "error",
     "traceback": [
      "\u001b[1;31m---------------------------------------------------------------------------\u001b[0m",
      "\u001b[1;31mInvocationException\u001b[0m                       Traceback (most recent call last)",
      "Input \u001b[1;32mIn [28]\u001b[0m, in \u001b[0;36m<cell line: 8>\u001b[1;34m()\u001b[0m\n\u001b[0;32m      6\u001b[0m     plt\u001b[38;5;241m.\u001b[39mrcParams[\u001b[38;5;124m\"\u001b[39m\u001b[38;5;124mfigure.figsize\u001b[39m\u001b[38;5;124m\"\u001b[39m] \u001b[38;5;241m=\u001b[39m (\u001b[38;5;241m20\u001b[39m,\u001b[38;5;241m20\u001b[39m)\n\u001b[0;32m      7\u001b[0m     plt\u001b[38;5;241m.\u001b[39mimshow(img)\n\u001b[1;32m----> 8\u001b[0m \u001b[43mshow_tree\u001b[49m\u001b[43m(\u001b[49m\u001b[43mdt\u001b[49m\u001b[43m,\u001b[49m\u001b[43m \u001b[49m\u001b[43mfeatures\u001b[49m\u001b[43m,\u001b[49m\u001b[43m \u001b[49m\u001b[38;5;124;43m\"\u001b[39;49m\u001b[38;5;124;43mdec_tree.png\u001b[39;49m\u001b[38;5;124;43m\"\u001b[39;49m\u001b[43m)\u001b[49m\n",
      "Input \u001b[1;32mIn [28]\u001b[0m, in \u001b[0;36mshow_tree\u001b[1;34m(InputTree, features, path)\u001b[0m\n\u001b[0;32m      2\u001b[0m f \u001b[38;5;241m=\u001b[39m io\u001b[38;5;241m.\u001b[39mStringIO()\n\u001b[0;32m      3\u001b[0m tree\u001b[38;5;241m.\u001b[39mexport_graphviz(InputTree, out_file\u001b[38;5;241m=\u001b[39mf, feature_names\u001b[38;5;241m=\u001b[39mfeatures)\n\u001b[1;32m----> 4\u001b[0m \u001b[43mpydotplus\u001b[49m\u001b[38;5;241;43m.\u001b[39;49m\u001b[43mgraph_from_dot_data\u001b[49m\u001b[43m(\u001b[49m\u001b[43mf\u001b[49m\u001b[38;5;241;43m.\u001b[39;49m\u001b[43mgetvalue\u001b[49m\u001b[43m(\u001b[49m\u001b[43m)\u001b[49m\u001b[43m)\u001b[49m\u001b[38;5;241;43m.\u001b[39;49m\u001b[43mwrite_png\u001b[49m\u001b[43m(\u001b[49m\u001b[43mpath\u001b[49m\u001b[43m)\u001b[49m\n\u001b[0;32m      5\u001b[0m img \u001b[38;5;241m=\u001b[39m misc\u001b[38;5;241m.\u001b[39mimread(path)\n\u001b[0;32m      6\u001b[0m plt\u001b[38;5;241m.\u001b[39mrcParams[\u001b[38;5;124m\"\u001b[39m\u001b[38;5;124mfigure.figsize\u001b[39m\u001b[38;5;124m\"\u001b[39m] \u001b[38;5;241m=\u001b[39m (\u001b[38;5;241m20\u001b[39m,\u001b[38;5;241m20\u001b[39m)\n",
      "File \u001b[1;32mc:\\Users\\dev\\AppData\\Local\\Programs\\Python\\Python310\\lib\\site-packages\\pydotplus\\graphviz.py:1810\u001b[0m, in \u001b[0;36mDot.__init__.<locals>.<lambda>\u001b[1;34m(path, f, prog)\u001b[0m\n\u001b[0;32m   1800\u001b[0m     f\u001b[38;5;241m.\u001b[39m\u001b[38;5;18m__doc__\u001b[39m \u001b[38;5;241m=\u001b[39m (\n\u001b[0;32m   1801\u001b[0m         \u001b[38;5;124;03m'''Refer to the docstring accompanying the'''\u001b[39;00m\n\u001b[0;32m   1802\u001b[0m         \u001b[38;5;124;03m''''create' method for more information.'''\u001b[39;00m\n\u001b[0;32m   1803\u001b[0m     )\n\u001b[0;32m   1805\u001b[0m \u001b[38;5;28;01mfor\u001b[39;00m frmt \u001b[38;5;129;01min\u001b[39;00m \u001b[38;5;28mself\u001b[39m\u001b[38;5;241m.\u001b[39mformats \u001b[38;5;241m+\u001b[39m [\u001b[38;5;124m'\u001b[39m\u001b[38;5;124mraw\u001b[39m\u001b[38;5;124m'\u001b[39m]:\n\u001b[0;32m   1806\u001b[0m     \u001b[38;5;28mself\u001b[39m\u001b[38;5;241m.\u001b[39m\u001b[38;5;21m__setattr__\u001b[39m(\n\u001b[0;32m   1807\u001b[0m         \u001b[38;5;124m'\u001b[39m\u001b[38;5;124mwrite_\u001b[39m\u001b[38;5;124m'\u001b[39m \u001b[38;5;241m+\u001b[39m frmt,\n\u001b[0;32m   1808\u001b[0m         \u001b[38;5;28;01mlambda\u001b[39;00m path,\n\u001b[0;32m   1809\u001b[0m         f\u001b[38;5;241m=\u001b[39mfrmt,\n\u001b[1;32m-> 1810\u001b[0m         prog\u001b[38;5;241m=\u001b[39m\u001b[38;5;28mself\u001b[39m\u001b[38;5;241m.\u001b[39mprog: \u001b[38;5;28;43mself\u001b[39;49m\u001b[38;5;241;43m.\u001b[39;49m\u001b[43mwrite\u001b[49m\u001b[43m(\u001b[49m\u001b[43mpath\u001b[49m\u001b[43m,\u001b[49m\u001b[43m \u001b[49m\u001b[38;5;28;43mformat\u001b[39;49m\u001b[38;5;241;43m=\u001b[39;49m\u001b[43mf\u001b[49m\u001b[43m,\u001b[49m\u001b[43m \u001b[49m\u001b[43mprog\u001b[49m\u001b[38;5;241;43m=\u001b[39;49m\u001b[43mprog\u001b[49m\u001b[43m)\u001b[49m\n\u001b[0;32m   1811\u001b[0m     )\n\u001b[0;32m   1813\u001b[0m     f \u001b[38;5;241m=\u001b[39m \u001b[38;5;28mself\u001b[39m\u001b[38;5;241m.\u001b[39m\u001b[38;5;18m__dict__\u001b[39m[\u001b[38;5;124m'\u001b[39m\u001b[38;5;124mwrite_\u001b[39m\u001b[38;5;124m'\u001b[39m \u001b[38;5;241m+\u001b[39m frmt]\n\u001b[0;32m   1814\u001b[0m     f\u001b[38;5;241m.\u001b[39m\u001b[38;5;18m__doc__\u001b[39m \u001b[38;5;241m=\u001b[39m (\n\u001b[0;32m   1815\u001b[0m         \u001b[38;5;124;03m'''Refer to the docstring accompanying the'''\u001b[39;00m\n\u001b[0;32m   1816\u001b[0m         \u001b[38;5;124;03m''''write' method for more information.'''\u001b[39;00m\n\u001b[0;32m   1817\u001b[0m     )\n",
      "File \u001b[1;32mc:\\Users\\dev\\AppData\\Local\\Programs\\Python\\Python310\\lib\\site-packages\\pydotplus\\graphviz.py:1918\u001b[0m, in \u001b[0;36mDot.write\u001b[1;34m(self, path, prog, format)\u001b[0m\n\u001b[0;32m   1915\u001b[0m         fobj\u001b[38;5;241m.\u001b[39mwrite(data)\n\u001b[0;32m   1917\u001b[0m     \u001b[38;5;28;01melse\u001b[39;00m:\n\u001b[1;32m-> 1918\u001b[0m         fobj\u001b[38;5;241m.\u001b[39mwrite(\u001b[38;5;28;43mself\u001b[39;49m\u001b[38;5;241;43m.\u001b[39;49m\u001b[43mcreate\u001b[49m\u001b[43m(\u001b[49m\u001b[43mprog\u001b[49m\u001b[43m,\u001b[49m\u001b[43m \u001b[49m\u001b[38;5;28;43mformat\u001b[39;49m\u001b[43m)\u001b[49m)\n\u001b[0;32m   1919\u001b[0m \u001b[38;5;28;01mfinally\u001b[39;00m:\n\u001b[0;32m   1920\u001b[0m     \u001b[38;5;28;01mif\u001b[39;00m close:\n",
      "File \u001b[1;32mc:\\Users\\dev\\AppData\\Local\\Programs\\Python\\Python310\\lib\\site-packages\\pydotplus\\graphviz.py:1959\u001b[0m, in \u001b[0;36mDot.create\u001b[1;34m(self, prog, format)\u001b[0m\n\u001b[0;32m   1957\u001b[0m     \u001b[38;5;28mself\u001b[39m\u001b[38;5;241m.\u001b[39mprogs \u001b[38;5;241m=\u001b[39m find_graphviz()\n\u001b[0;32m   1958\u001b[0m     \u001b[38;5;28;01mif\u001b[39;00m \u001b[38;5;28mself\u001b[39m\u001b[38;5;241m.\u001b[39mprogs \u001b[38;5;129;01mis\u001b[39;00m \u001b[38;5;28;01mNone\u001b[39;00m:\n\u001b[1;32m-> 1959\u001b[0m         \u001b[38;5;28;01mraise\u001b[39;00m InvocationException(\n\u001b[0;32m   1960\u001b[0m             \u001b[38;5;124m'\u001b[39m\u001b[38;5;124mGraphViz\u001b[39m\u001b[38;5;130;01m\\'\u001b[39;00m\u001b[38;5;124ms executables not found\u001b[39m\u001b[38;5;124m'\u001b[39m)\n\u001b[0;32m   1962\u001b[0m \u001b[38;5;28;01mif\u001b[39;00m prog \u001b[38;5;129;01mnot\u001b[39;00m \u001b[38;5;129;01min\u001b[39;00m \u001b[38;5;28mself\u001b[39m\u001b[38;5;241m.\u001b[39mprogs:\n\u001b[0;32m   1963\u001b[0m     \u001b[38;5;28;01mraise\u001b[39;00m InvocationException(\n\u001b[0;32m   1964\u001b[0m         \u001b[38;5;124m'\u001b[39m\u001b[38;5;124mGraphViz\u001b[39m\u001b[38;5;130;01m\\'\u001b[39;00m\u001b[38;5;124ms executable \u001b[39m\u001b[38;5;124m\"\u001b[39m\u001b[38;5;132;01m%s\u001b[39;00m\u001b[38;5;124m\"\u001b[39m\u001b[38;5;124m not found\u001b[39m\u001b[38;5;124m'\u001b[39m \u001b[38;5;241m%\u001b[39m prog)\n",
      "\u001b[1;31mInvocationException\u001b[0m: GraphViz's executables not found"
     ]
    }
   ],
   "source": [
    "def show_tree(InputTree, features, path):\n",
    "    f = io.StringIO()\n",
    "    tree.export_graphviz(InputTree, out_file=f, feature_names=features)\n",
    "    pydotplus.graph_from_dot_data(f.getvalue()).write_png(path)\n",
    "    img = misc.imread(path)\n",
    "    plt.rcParams[\"figure.figsize\"] = (20,20)\n",
    "    plt.imshow(img)\n",
    "show_tree(dt, features, \"dec_tree.png\")"
   ]
  },
  {
   "cell_type": "code",
   "execution_count": 29,
   "metadata": {},
   "outputs": [
    {
     "name": "stdout",
     "output_type": "stream",
     "text": [
      "Accuracy using Decision Tree:  88.5 %\n"
     ]
    }
   ],
   "source": [
    "y_pred = c.predict(x_test)\n",
    "score = accuracy_score(y_test, y_pred) * 100\n",
    "print(\"Accuracy using Decision Tree: \", round(score, 1), \"%\")"
   ]
  },
  {
   "cell_type": "code",
   "execution_count": 30,
   "metadata": {},
   "outputs": [
    {
     "name": "stdout",
     "output_type": "stream",
     "text": [
      "Accuracy using Knn Tree:  88.5 %\n"
     ]
    }
   ],
   "source": [
    "from sklearn.neighbors import KNeighborsClassifier\n",
    "knn = KNeighborsClassifier(3)\n",
    "knn.fit(x_train, y_train)\n",
    "knn_pred = c.predict(x_test)\n",
    "score = accuracy_score(y_test, knn_pred) * 100\n",
    "print(\"Accuracy using Knn Tree: \", round(score, 1), \"%\")"
   ]
  },
  {
   "cell_type": "code",
   "execution_count": 31,
   "metadata": {},
   "outputs": [
    {
     "name": "stdout",
     "output_type": "stream",
     "text": [
      "Accuracy using mlp Tree:  35.6 %\n"
     ]
    }
   ],
   "source": [
    "from sklearn.neural_network import MLPClassifier\n",
    "mlp = MLPClassifier()\n",
    "mlp.fit(x_train, y_train)\n",
    "mlp_pred = mlp.predict(x_test)\n",
    "score = accuracy_score(y_test, mlp_pred) * 100\n",
    "print(\"Accuracy using mlp Tree: \", round(score, 1), \"%\")"
   ]
  },
  {
   "cell_type": "code",
   "execution_count": 32,
   "metadata": {},
   "outputs": [
    {
     "name": "stdout",
     "output_type": "stream",
     "text": [
      "Accuracy using random forest:  90.8 %\n"
     ]
    }
   ],
   "source": [
    "from sklearn.ensemble import RandomForestClassifier\n",
    "forest = RandomForestClassifier(max_depth=5, n_estimators=10, max_features=1)\n",
    "forest.fit(x_train, y_train)\n",
    "forest_pred = forest.predict(x_test)\n",
    "from sklearn.metrics import accuracy_score\n",
    "score = accuracy_score(y_test, forest_pred) * 100\n",
    "print(\"Accuracy using random forest: \", round(score, 1), \"%\")"
   ]
  },
  {
   "cell_type": "code",
   "execution_count": 33,
   "metadata": {},
   "outputs": [
    {
     "name": "stdout",
     "output_type": "stream",
     "text": [
      "Accuracy using ada:  92.0 %\n"
     ]
    },
    {
     "name": "stderr",
     "output_type": "stream",
     "text": [
      "c:\\Users\\dev\\AppData\\Local\\Programs\\Python\\Python310\\lib\\site-packages\\sklearn\\ensemble\\_weight_boosting.py:519: FutureWarning: The SAMME.R algorithm (the default) is deprecated and will be removed in 1.6. Use the SAMME algorithm to circumvent this warning.\n",
      "  warnings.warn(\n"
     ]
    }
   ],
   "source": [
    "from sklearn.ensemble import AdaBoostClassifier\n",
    "ada = AdaBoostClassifier(n_estimators=100)\n",
    "ada.fit(x_train, y_train)\n",
    "ada_pred = ada.predict(x_test)\n",
    "from sklearn.metrics import accuracy_score\n",
    "score = accuracy_score(y_test, ada_pred) * 100\n",
    "print(\"Accuracy using ada: \", round(score, 1), \"%\")"
   ]
  },
  {
   "cell_type": "code",
   "execution_count": 34,
   "metadata": {},
   "outputs": [
    {
     "name": "stdout",
     "output_type": "stream",
     "text": [
      "Accuracy using gauss:  69.0 %\n"
     ]
    }
   ],
   "source": [
    "from sklearn.naive_bayes import GaussianNB\n",
    "gauss = GaussianNB()\n",
    "gauss.fit(x_train, y_train)\n",
    "gauss_pred = gauss.predict(x_test)\n",
    "score = accuracy_score(y_test, gauss_pred)*100\n",
    "print(\"Accuracy using gauss: \", round(score, 1), \"%\")"
   ]
  },
  {
   "cell_type": "code",
   "execution_count": 35,
   "metadata": {},
   "outputs": [
    {
     "name": "stdout",
     "output_type": "stream",
     "text": [
      "Accuracy using Kmeans:  36.8 %\n"
     ]
    }
   ],
   "source": [
    "from sklearn.cluster import KMeans\n",
    "k_means = KMeans(n_clusters=3, random_state=0)\n",
    "k_means.fit(x_train, y_train)\n",
    "predicted= k_means.predict(x_test)\n",
    "score = accuracy_score(y_test, predicted)*100\n",
    "print(\"Accuracy using Kmeans: \", round(score, 1), \"%\")"
   ]
  },
  {
   "cell_type": "code",
   "execution_count": 36,
   "metadata": {},
   "outputs": [
    {
     "name": "stdout",
     "output_type": "stream",
     "text": [
      "Accuracy using Gbc:  92.0 %\n"
     ]
    }
   ],
   "source": [
    "from sklearn.ensemble import GradientBoostingClassifier\n",
    "gbc = GradientBoostingClassifier(n_estimators=100, learning_rate=.1, max_depth=1, random_state=0)\n",
    "gbc.fit(x_train, y_train)\n",
    "predicted = gbc.predict(x_test)\n",
    "score = accuracy_score(y_test, predicted)*100\n",
    "print(\"Accuracy using Gbc: \", round(score, 1), \"%\")"
   ]
  }
 ],
 "metadata": {
  "kernelspec": {
   "display_name": "Python 3",
   "language": "python",
   "name": "python3"
  },
  "language_info": {
   "codemirror_mode": {
    "name": "ipython",
    "version": 3
   },
   "file_extension": ".py",
   "mimetype": "text/x-python",
   "name": "python",
   "nbconvert_exporter": "python",
   "pygments_lexer": "ipython3",
   "version": "3.10.1"
  }
 },
 "nbformat": 4,
 "nbformat_minor": 2
}
