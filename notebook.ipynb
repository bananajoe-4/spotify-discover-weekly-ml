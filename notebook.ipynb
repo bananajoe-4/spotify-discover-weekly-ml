{
 "cells": [
  {
   "cell_type": "code",
   "execution_count": 4,
   "metadata": {},
   "outputs": [],
   "source": [
    "import spotipy\n",
    "from spotipy.oauth2 import SpotifyClientCredentials\n",
    "import spotipy.util as util\n",
    "\n",
    "client_id = '164fe11263da4ce8b39cb03311385ce6'\n",
    "client_secret = '448a0146206e4b718e4bcc0865efcd29'\n",
    "redirect_uri='http://localhost:8080/callback'\n",
    "username = 'c9b766413a7441da'\n",
    "scope = \"user-library-read\",\"playlist-modify-private\"\n",
    "\n",
    "\n",
    "PLAYLIST_ID = '4vbRKPbxg7KS3qeILehjix'\n",
    "\n",
    "#Credentials to access the Spotify Music Data\n",
    "from spotipy.oauth2 import SpotifyOAuth\n",
    "import spotipy\n",
    "\n",
    "sp = spotipy.Spotify(auth_manager=SpotifyOAuth(client_id,\n",
    "                                               client_secret,\n",
    "                                               redirect_uri,\n",
    "                                               scope = 'user-library-read playlist-read-private'))\n",
    "\n"
   ]
  }
 ],
 "metadata": {
  "kernelspec": {
   "display_name": "Python 3",
   "language": "python",
   "name": "python3"
  },
  "language_info": {
   "codemirror_mode": {
    "name": "ipython",
    "version": 3
   },
   "file_extension": ".py",
   "mimetype": "text/x-python",
   "name": "python",
   "nbconvert_exporter": "python",
   "pygments_lexer": "ipython3",
   "version": "3.10.1"
  }
 },
 "nbformat": 4,
 "nbformat_minor": 2
}
