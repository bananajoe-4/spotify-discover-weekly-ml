{
 "cells": [
  {
   "cell_type": "code",
   "execution_count": null,
   "metadata": {},
   "outputs": [],
   "source": [
    "import pandas as pd #Dataframe, Series\n",
    "\n",
    "from sklearn import tree\n",
    "from sklearn.tree import DecisionTreeClassifier\n",
    "from sklearn.model_selection import train_test_split\n",
    "\n",
    "from matplotlib import pyplot as plt\n",
    "import seaborn as sns\n",
    "\n",
    "import pydotplus\n",
    "import io\n",
    "\n",
    "from scipy import misc\n",
    "\n",
    "from sklearn.metrics import accuracy_score\n",
    "\n",
    "import spotipy\n",
    "import spotipy.util as util\n",
    "sp = spotipy.Spotify() \n",
    "from spotipy.oauth2 import SpotifyClientCredentials \n",
    "\n",
    "%matplotlib inline"
   ]
  },
  {
   "cell_type": "markdown",
   "metadata": {},
   "source": [
    "### Login"
   ]
  },
  {
   "cell_type": "code",
   "execution_count": null,
   "metadata": {},
   "outputs": [],
   "source": [
    "import spotipy\n",
    "from spotipy.oauth2 import SpotifyClientCredentials\n",
    "import spotipy.util as util\n",
    "\n",
    "client_id = '164fe11263da4ce8b39cb03311385ce6'\n",
    "client_secret = '448a0146206e4b718e4bcc0865efcd29'\n",
    "redirect_uri='http://localhost:8080/callback'\n",
    "username = '5865b9eadfc54092'\n",
    "scope = 'user-library-read playlist-read-private'\n",
    "\n",
    "\n",
    "#Credentials to access the Spotify Music Data\n",
    "from spotipy.oauth2 import SpotifyOAuth\n",
    "import spotipy\n",
    "\n",
    "sp = spotipy.Spotify(auth_manager=SpotifyOAuth(client_id,\n",
    "                                               client_secret,\n",
    "                                               redirect_uri,\n",
    "                                               scope = 'user-library-read playlist-read-private'))"
   ]
  },
  {
   "cell_type": "markdown",
   "metadata": {},
   "source": [
    "### Input Data into Model\n",
    "\n",
    "- gathering good and bad playlists\n",
    "- The method signature is sp.user_playlist('user', 'playlist_id')\n",
    "- To do this go to your good and bad playlists and copy the links.\n",
    "    - An example spotify link: https://open.spotify.com/user/1287242681/playlist/5OdH7PmotfAO7qDGxKdw3J\n",
    "    - The user is the number after user/ and the playlist id is after the playlist/."
   ]
  },
  {
   "cell_type": "code",
   "execution_count": null,
   "metadata": {},
   "outputs": [],
   "source": [
    "good_playlist = sp.user_playlist(\"1287242681\", \"0zgnMFEGrQdROGaTmCDcdI\")\n",
    "bad_playlist = sp.user_playlist(\"1287242681\", \"37i9dQZF1EIeBK96mJllYR\")\n",
    "\n",
    "# https://open.spotify.com/playlist/0zgnMFEGrQdROGaTmCDcdI?si=3c6d800197624757\n",
    "# https://open.spotify.com/playlist/4xsezTLL6nTw71prwB0IWE?si=1644f32f1e57424b\n",
    "# https://open.spotify.com/playlist/37i9dQZF1EIeBK96mJllYR?si=6fc5535b01db45c4"
   ]
  },
  {
   "cell_type": "code",
   "execution_count": null,
   "metadata": {},
   "outputs": [],
   "source": [
    "#Get the good song id's out of the good playlists, need it for the audio features call.\n",
    "good_tracks = good_playlist[\"tracks\"]\n",
    "good_songs = good_tracks[\"items\"] \n",
    "while good_tracks['next']:\n",
    "    good_tracks = sp.next(good_tracks)\n",
    "    for item in good_tracks[\"items\"]:\n",
    "        good_songs.append(item)\n",
    "good_ids = [] \n",
    "print(len(good_songs))\n",
    "for i in range(len(good_songs)):\n",
    "    print(good_songs[i]['track']['id'])\n",
    "    good_ids.append(good_songs[i]['track']['id'])\n",
    "# good_tracks"
   ]
  },
  {
   "cell_type": "code",
   "execution_count": null,
   "metadata": {},
   "outputs": [],
   "source": [
    "#Now do the same thing for the bad playlist\n",
    "bad_tracks = bad_playlist[\"tracks\"]\n",
    "bad_songs = bad_tracks[\"items\"] \n",
    "while bad_tracks['next']:\n",
    "    bad_tracks = sp.next(bad_tracks)\n",
    "    for item in bad_tracks[\"items\"]:\n",
    "        bad_songs.append(item)\n",
    "bad_ids = [] \n",
    "print(len(bad_songs))\n",
    "for i in range(len(bad_songs)):\n",
    "    bad_ids.append(bad_songs[i]['track']['id'])"
   ]
  },
  {
   "cell_type": "code",
   "execution_count": null,
   "metadata": {},
   "outputs": [],
   "source": [
    "print(sp.audio_features(good_ids[0]))"
   ]
  },
  {
   "cell_type": "code",
   "execution_count": null,
   "metadata": {},
   "outputs": [],
   "source": [
    "# remove unavailible tracks (features = NoneType)\n",
    "filtered_ids = [id for id in good_ids if id is not None]\n",
    "good_ids = filtered_ids"
   ]
  },
  {
   "cell_type": "code",
   "execution_count": null,
   "metadata": {},
   "outputs": [],
   "source": [
    "for i in range(0,len(good_ids),50):\n",
    "    audio_features = sp.audio_features(good_ids[i:i+50])\n",
    "    print(audio_features)"
   ]
  },
  {
   "cell_type": "code",
   "execution_count": null,
   "metadata": {},
   "outputs": [],
   "source": [
    "features = []\n",
    "for i in range(0,len(good_ids),50):\n",
    "    audio_features = sp.audio_features(good_ids[i:i+50])\n",
    "    for track in audio_features:\n",
    "        features.append(track)\n",
    "        features[-1]['target'] = 1"
   ]
  },
  {
   "cell_type": "code",
   "execution_count": null,
   "metadata": {},
   "outputs": [],
   "source": [
    "features"
   ]
  },
  {
   "cell_type": "code",
   "execution_count": null,
   "metadata": {},
   "outputs": [],
   "source": [
    "#Here is where we get all of the audio_features for the tracks on the good and bad playlists.\n",
    "features = []\n",
    "inSavedTracks = []\n",
    "j = 0\n",
    "for i in range(0,len(good_ids),50):\n",
    "    audio_features = sp.audio_features(good_ids[i:i+50])\n",
    "    for track in audio_features:\n",
    "        print(track)\n",
    "        features.append(track)\n",
    "        track = good_songs[j]\n",
    "        j= j+1\n",
    "        features[-1]['trackPopularity'] = track['track']['popularity']\n",
    "        if track['track']['artists'][0]['id'] is not None:\n",
    "            features[-1]['artistPopularity'] = sp.artist(track['track']['artists'][0]['id'])['popularity']\n",
    "        features[-1]['target'] = 1\n",
    "j = 0\n",
    "for i in range(0,len(bad_ids),50):\n",
    "    audio_features = sp.audio_features(bad_ids[i:i+50])\n",
    "    for track in audio_features:\n",
    "        print(track)\n",
    "        features.append(track)\n",
    "        track = good_songs[j]\n",
    "        j= j+1\n",
    "        features[-1]['trackPopularity'] = track['track']['popularity']\n",
    "        if track['track']['artists'][0]['id'] is not None:\n",
    "            features[-1]['artistPopularity'] = sp.artist(track['track']['artists'][0]['id'])['popularity']\n",
    "        features[-1]['target'] = 0"
   ]
  },
  {
   "cell_type": "markdown",
   "metadata": {},
   "source": [
    "### Model Training and Data Modeling"
   ]
  },
  {
   "cell_type": "code",
   "execution_count": null,
   "metadata": {},
   "outputs": [],
   "source": [
    "trainingData = pd.DataFrame(features)\n",
    "trainingData.head()"
   ]
  },
  {
   "cell_type": "markdown",
   "metadata": {},
   "source": [
    "Test size is 15 % of the dataset"
   ]
  },
  {
   "cell_type": "code",
   "execution_count": null,
   "metadata": {},
   "outputs": [],
   "source": [
    "train, test = train_test_split(trainingData, test_size = 0.15)\n",
    "print(\"Training size: {}, Test size: {}\".format(len(train),len(test)))"
   ]
  },
  {
   "cell_type": "code",
   "execution_count": null,
   "metadata": {},
   "outputs": [],
   "source": [
    "# Custom Color Palette for graphs\n",
    "red_blue = ['#19B5FE', '#EF4836']\n",
    "palette = sns.color_palette(red_blue)\n",
    "sns.set_palette(palette)\n",
    "sns.set_style('white')"
   ]
  },
  {
   "cell_type": "code",
   "execution_count": null,
   "metadata": {},
   "outputs": [],
   "source": [
    "pos_tempo = trainingData[trainingData['target'] == 1]['tempo']\n",
    "neg_tempo = trainingData[trainingData['target'] == 0]['tempo']\n",
    "pos_dance = trainingData[trainingData['target'] == 1]['danceability']\n",
    "neg_dance = trainingData[trainingData['target'] == 0]['danceability']\n",
    "pos_duration = trainingData[trainingData['target'] == 1]['duration_ms']\n",
    "neg_duration = trainingData[trainingData['target'] == 0]['duration_ms']\n",
    "pos_loudness = trainingData[trainingData['target'] == 1]['loudness']\n",
    "neg_loudness = trainingData[trainingData['target'] == 0]['loudness']\n",
    "pos_speechiness = trainingData[trainingData['target'] == 1]['speechiness']\n",
    "neg_speechiness = trainingData[trainingData['target'] == 0]['speechiness']\n",
    "pos_valence = trainingData[trainingData['target'] == 1]['valence']\n",
    "neg_valence = trainingData[trainingData['target'] == 0]['valence']\n",
    "pos_energy = trainingData[trainingData['target'] == 1]['energy']\n",
    "neg_energy = trainingData[trainingData['target'] == 0]['energy']\n",
    "pos_acousticness = trainingData[trainingData['target'] == 1]['acousticness']\n",
    "neg_acousticness = trainingData[trainingData['target'] == 0]['acousticness']\n",
    "pos_key = trainingData[trainingData['target'] == 1]['key']\n",
    "neg_key = trainingData[trainingData['target'] == 0]['key']\n",
    "pos_instrumentalness = trainingData[trainingData['target'] == 1]['instrumentalness']\n",
    "neg_instrumentalness = trainingData[trainingData['target'] == 0]['instrumentalness']\n",
    "pos_popularity = trainingData[trainingData['target'] == 1]['trackPopularity']\n",
    "neg_popularity = trainingData[trainingData['target'] == 0]['trackPopularity']"
   ]
  },
  {
   "cell_type": "code",
   "execution_count": null,
   "metadata": {},
   "outputs": [],
   "source": [
    "fig = plt.figure(figsize=(8,4))\n",
    "plt.title(\"Song Tempo Like / Dislike Distribution\")\n",
    "pos_tempo.hist(alpha=0.7, bins=30, label='positive')\n",
    "neg_tempo.hist(alpha=0.7, bins=30, label='negative')\n",
    "plt.legend(loc='upper right')"
   ]
  },
  {
   "cell_type": "code",
   "execution_count": null,
   "metadata": {},
   "outputs": [],
   "source": [
    "fig = plt.figure(figsize=(8,4))\n",
    "plt.title(\"Song Tempo Like / Dislike Distribution\")\n",
    "pos_dance.hist(alpha=0.7, bins=30, label='positive')\n",
    "neg_dance.hist(alpha=0.7, bins=30, label='negative')\n",
    "plt.legend(loc='upper right')"
   ]
  },
  {
   "cell_type": "code",
   "execution_count": null,
   "metadata": {},
   "outputs": [],
   "source": [
    "fig2 = plt.figure(figsize=(15,15))\n",
    "\n",
    "#Danceability\n",
    "ax3 = fig2.add_subplot(331)\n",
    "ax3.set_xlabel('Danceability')\n",
    "ax3.set_ylabel('Count')\n",
    "ax3.set_title('Song Danceability Like Distribution')\n",
    "pos_dance.hist(alpha= 0.5, bins=30, ax=ax3)\n",
    "neg_dance.hist(alpha= 0.5, bins=30, ax=ax3)\n",
    "\n",
    "#Duration_ms\n",
    "ax5 = fig2.add_subplot(332)\n",
    "ax5.set_xlabel('Duration')\n",
    "ax5.set_ylabel('Count')\n",
    "ax5.set_title('Song Duration Like Distribution')\n",
    "pos_duration.hist(alpha= 0.5, bins=30, ax=ax5)\n",
    "neg_duration.hist(alpha= 0.5, bins=30, ax=ax5)\n",
    "\n",
    "#Loudness\n",
    "ax7 = fig2.add_subplot(333)\n",
    "ax7.set_xlabel('Loudness')\n",
    "ax7.set_ylabel('Count')\n",
    "ax7.set_title('Song Loudness Like Distribution')\n",
    "pos_loudness.hist(alpha= 0.5, bins=30, ax=ax7)\n",
    "neg_loudness.hist(alpha= 0.5, bins=30, ax=ax7)\n",
    "\n",
    "#Speechiness\n",
    "ax9 = fig2.add_subplot(334)\n",
    "ax9.set_xlabel('Speechiness')\n",
    "ax9.set_ylabel('Count')\n",
    "ax9.set_title('Song Speechiness Like Distribution')\n",
    "pos_speechiness.hist(alpha= 0.5, bins=30, ax=ax9)\n",
    "neg_speechiness.hist(alpha= 0.5, bins=30, ax=ax9)\n",
    "\n",
    "#Valence\n",
    "ax11 = fig2.add_subplot(335)\n",
    "ax11.set_xlabel('Valence')\n",
    "ax11.set_ylabel('Count')\n",
    "ax11.set_title('Song Valence Like Distribution')\n",
    "pos_valence.hist(alpha= 0.5, bins=30, ax=ax11)\n",
    "neg_valence.hist(alpha= 0.5, bins=30, ax=ax11)\n",
    "\n",
    "#Energy\n",
    "ax13 = fig2.add_subplot(336)\n",
    "ax13.set_xlabel('Energy')\n",
    "ax13.set_ylabel('Count')\n",
    "ax13.set_title('Song Energy Like Distribution')\n",
    "pos_energy.hist(alpha= 0.5, bins=30, ax=ax13)\n",
    "neg_energy.hist(alpha= 0.5, bins=30, ax=ax13)\n",
    "\n",
    "#Key\n",
    "ax15 = fig2.add_subplot(337)\n",
    "ax15.set_xlabel('Key')\n",
    "ax15.set_ylabel('Count')\n",
    "ax15.set_title('Song Key Like Distribution')\n",
    "pos_key.hist(alpha= 0.5, bins=30, ax=ax15)\n",
    "neg_key.hist(alpha= 0.5, bins=30, ax=ax15)\n",
    "\n",
    "#Popularity\n",
    "ax17 = fig2.add_subplot(338)\n",
    "ax17.set_xlabel('Popularity')\n",
    "ax17.set_ylabel('Count')\n",
    "ax17.set_title('Popularity Distribution')\n",
    "pos_popularity.hist(alpha= 0.5, bins=30, ax=ax17)\n",
    "neg_popularity.hist(alpha= 0.5, bins=30, ax=ax17)\n",
    "\n",
    "pos_dance.hist(alpha= 0.5, bins=30, ax=ax3, label='pos')\n",
    "neg_dance.hist(alpha= 0.5, bins=30, ax=ax3, label='neg')\n",
    "ax3.legend()"
   ]
  },
  {
   "cell_type": "code",
   "execution_count": null,
   "metadata": {},
   "outputs": [],
   "source": [
    "#Define the set of features that we want to look at\n",
    "features = [\"danceability\", \"loudness\", \"valence\", \"energy\", \"instrumentalness\", \"acousticness\", \"key\", \"speechiness\",\"duration_ms\"]"
   ]
  },
  {
   "cell_type": "code",
   "execution_count": null,
   "metadata": {},
   "outputs": [],
   "source": [
    "#Split the data into x and y test and train sets to feed them into a bunch of classifiers!\n",
    "x_train = train[features]\n",
    "y_train = train[\"target\"]\n",
    "\n",
    "x_test = test[features]\n",
    "y_test = test[\"target\"]"
   ]
  },
  {
   "cell_type": "code",
   "execution_count": null,
   "metadata": {},
   "outputs": [],
   "source": [
    "c = DecisionTreeClassifier(min_samples_split=100)\n",
    "dt = c.fit(x_train, y_train)"
   ]
  },
  {
   "cell_type": "code",
   "execution_count": null,
   "metadata": {},
   "outputs": [],
   "source": [
    "def show_tree(InputTree, features, path):\n",
    "    f = io.StringIO()\n",
    "    tree.export_graphviz(InputTree, out_file=f, feature_names=features)\n",
    "    pydotplus.graph_from_dot_data(f.getvalue()).write_png(path)\n",
    "    img = misc.imread(path)\n",
    "    plt.rcParams[\"figure.figsize\"] = (20,20)\n",
    "    plt.imshow(img)\n",
    "# TODO install \n",
    "# show_tree(dt, features, \"dec_tree.png\")"
   ]
  },
  {
   "cell_type": "code",
   "execution_count": null,
   "metadata": {},
   "outputs": [],
   "source": [
    "y_pred = c.predict(x_test)\n",
    "score = accuracy_score(y_test, y_pred) * 100\n",
    "print(\"Accuracy using Decision Tree: \", round(score, 1), \"%\")"
   ]
  },
  {
   "cell_type": "code",
   "execution_count": null,
   "metadata": {},
   "outputs": [],
   "source": [
    "from sklearn.neighbors import KNeighborsClassifier\n",
    "knn = KNeighborsClassifier(3)\n",
    "knn.fit(x_train, y_train)\n",
    "knn_pred = c.predict(x_test)\n",
    "score = accuracy_score(y_test, knn_pred) * 100\n",
    "print(\"Accuracy using Knn Tree: \", round(score, 1), \"%\")"
   ]
  },
  {
   "cell_type": "code",
   "execution_count": null,
   "metadata": {},
   "outputs": [],
   "source": [
    "from sklearn.neural_network import MLPClassifier\n",
    "mlp = MLPClassifier()\n",
    "mlp.fit(x_train, y_train)\n",
    "mlp_pred = mlp.predict(x_test)\n",
    "score = accuracy_score(y_test, mlp_pred) * 100\n",
    "print(\"Accuracy using mlp Tree: \", round(score, 1), \"%\")"
   ]
  },
  {
   "cell_type": "code",
   "execution_count": null,
   "metadata": {},
   "outputs": [],
   "source": [
    "from sklearn.ensemble import RandomForestClassifier\n",
    "forest = RandomForestClassifier(max_depth=5, n_estimators=10, max_features=1)\n",
    "forest.fit(x_train, y_train)\n",
    "forest_pred = forest.predict(x_test)\n",
    "from sklearn.metrics import accuracy_score\n",
    "score = accuracy_score(y_test, forest_pred) * 100\n",
    "print(\"Accuracy using random forest: \", round(score, 1), \"%\")"
   ]
  },
  {
   "cell_type": "code",
   "execution_count": null,
   "metadata": {},
   "outputs": [],
   "source": [
    "from sklearn.ensemble import AdaBoostClassifier\n",
    "ada = AdaBoostClassifier(n_estimators=100)\n",
    "ada.fit(x_train, y_train)\n",
    "ada_pred = ada.predict(x_test)\n",
    "from sklearn.metrics import accuracy_score\n",
    "score = accuracy_score(y_test, ada_pred) * 100\n",
    "print(\"Accuracy using ada: \", round(score, 1), \"%\")"
   ]
  },
  {
   "cell_type": "code",
   "execution_count": null,
   "metadata": {},
   "outputs": [],
   "source": [
    "from sklearn.naive_bayes import GaussianNB\n",
    "gauss = GaussianNB()\n",
    "gauss.fit(x_train, y_train)\n",
    "gauss_pred = gauss.predict(x_test)\n",
    "score = accuracy_score(y_test, gauss_pred)*100\n",
    "print(\"Accuracy using gauss: \", round(score, 1), \"%\")"
   ]
  },
  {
   "cell_type": "code",
   "execution_count": null,
   "metadata": {},
   "outputs": [],
   "source": [
    "from sklearn.cluster import KMeans\n",
    "k_means = KMeans(n_clusters=3, random_state=0)\n",
    "k_means.fit(x_train, y_train)\n",
    "predicted= k_means.predict(x_test)\n",
    "score = accuracy_score(y_test, predicted)*100\n",
    "print(\"Accuracy using Kmeans: \", round(score, 1), \"%\")"
   ]
  },
  {
   "cell_type": "code",
   "execution_count": null,
   "metadata": {},
   "outputs": [],
   "source": [
    "from sklearn.ensemble import GradientBoostingClassifier\n",
    "gbc = GradientBoostingClassifier(n_estimators=100, learning_rate=.1, max_depth=1, random_state=0)\n",
    "gbc.fit(x_train, y_train)\n",
    "predicted = gbc.predict(x_test)\n",
    "score = accuracy_score(y_test, predicted)*100\n",
    "print(\"Accuracy using Gbc: \", round(score, 1), \"%\")"
   ]
  },
  {
   "cell_type": "code",
   "execution_count": null,
   "metadata": {},
   "outputs": [],
   "source": [
    "from sklearn.discriminant_analysis import QuadraticDiscriminantAnalysis\n",
    "qda = QuadraticDiscriminantAnalysis()\n",
    "qda.fit(x_train, y_train)\n",
    "qda_pred = qda.predict(x_test)\n",
    "score = accuracy_score(y_test, qda_pred)*100\n",
    "print(\"Accuracy using qda: \", round(score, 1), \"%\")"
   ]
  },
  {
   "cell_type": "code",
   "execution_count": null,
   "metadata": {},
   "outputs": [],
   "source": [
    "from sklearn.svm import SVC\n",
    "svc_lin = SVC(kernel=\"linear\", C=0.025)\n",
    "svc_lin.fit(x_train, y_train)\n",
    "svc_pred = svc_lin.predict(x_test)\n",
    "from sklearn.metrics import accuracy_score\n",
    "score = accuracy_score(y_test, svc_pred) * 100\n",
    "print(\"Accuracy using svc linear: \", round(score, 1), \"%\")"
   ]
  },
  {
   "cell_type": "code",
   "execution_count": null,
   "metadata": {},
   "outputs": [],
   "source": [
    "from sklearn.gaussian_process import GaussianProcessClassifier\n",
    "from sklearn.gaussian_process.kernels import RBF\n",
    "gpc = GaussianProcessClassifier(1.0 * RBF(1.0), warm_start=True)\n",
    "gpc.fit(x_train, y_train)\n",
    "gpc_pred = gpc.predict(x_test)\n",
    "from sklearn.metrics import accuracy_score\n",
    "score = accuracy_score(y_test, gpc_pred) * 100\n",
    "print(\"Accuracy using gpc: \", round(score, 1), \"%\")"
   ]
  },
  {
   "cell_type": "code",
   "execution_count": null,
   "metadata": {},
   "outputs": [],
   "source": [
    "client_id = '164fe11263da4ce8b39cb03311385ce6'\n",
    "client_secret = '448a0146206e4b718e4bcc0865efcd29'\n",
    "redirect_uri='http://localhost:8080/callback'\n",
    "username = '5865b9eadfc54092'\n",
    "scope = 'playlist-modify-private playlist-modify-public playlist-read-private user-library-read'\n",
    "\n",
    "\n",
    "#Credentials to access the Spotify Music Data\n",
    "from spotipy.oauth2 import SpotifyOAuth\n",
    "import spotipy\n",
    "\n",
    "sp = spotipy.Spotify(auth_manager=SpotifyOAuth(client_id,\n",
    "                                               client_secret,\n",
    "                                               redirect_uri,\n",
    "                                               scope = 'user-library-read playlist-read-private'))"
   ]
  },
  {
   "cell_type": "code",
   "execution_count": null,
   "metadata": {},
   "outputs": [],
   "source": [
    "# https://open.spotify.com/playlist/37i9dQZEVXboFaKVZ0SRxM?si=5461b1f5714646cb\n",
    "playlistToFindSongsYouLikeIn = sp.user_playlist(\"spotify\", \"37i9dQZEVXboFaKVZ0SRxM\")\n",
    "\n",
    "newPlaylist_tracks = playlistToFindSongsYouLikeIn[\"tracks\"]\n",
    "newPlaylist_songs = newPlaylist_tracks[\"items\"] \n",
    "while newPlaylist_tracks['next']:\n",
    "    newPlaylist_tracks = sp.next(newPlaylist_tracks)\n",
    "    for song in newPlaylist_tracks[\"items\"]:\n",
    "        newPlaylist_songs.append(song)\n",
    "        \n",
    "newPlaylist_song_ids = [] \n",
    "print(len(newPlaylist_songs))\n",
    "for i in range(len(newPlaylist_songs)):\n",
    "    newPlaylist_song_ids.append(newPlaylist_songs[i]['track']['id'])\n",
    "    \n",
    "newPlaylist_features = []\n",
    "j = 0\n",
    "for i in range(0,len(newPlaylist_song_ids),50):\n",
    "    audio_features = sp.audio_features(newPlaylist_song_ids[i:i+50])\n",
    "    for track in audio_features:\n",
    "        track['song_title'] = newPlaylist_songs[j]['track']['name']\n",
    "        track['artist'] = newPlaylist_songs[j]['track']['artists'][0]['name']\n",
    "        j= j + 1\n",
    "        newPlaylist_features.append(track)\n",
    "print(len(newPlaylist_features))\n",
    "\n",
    "playlistToLookAtFeatures = pd.DataFrame(newPlaylist_features)"
   ]
  },
  {
   "cell_type": "code",
   "execution_count": null,
   "metadata": {},
   "outputs": [],
   "source": [
    "# https://open.spotify.com/playlist/7FoNW55Sdf38eY23BcQCDp?si=f6b9b38b8bd74613\n",
    "\n",
    "pred = gbc.predict(playlistToLookAtFeatures[features])\n",
    "\n",
    "to_add = []\n",
    "\n",
    "likedSongs = 0\n",
    "i = 0\n",
    "for prediction in pred:\n",
    "    if(prediction == 1):\n",
    "        print (\"Song: \" + playlistToLookAtFeatures[\"song_title\"][i] + \", By: \"+ playlistToLookAtFeatures[\"artist\"][i] + \" id : \" + playlistToLookAtFeatures[\"id\"][i])\n",
    "        # print(type(playlistToLookAtFeatures[\"id\"][i]))\n",
    "        to_add.append(playlistToLookAtFeatures['id'][i])\n",
    "        likedSongs = likedSongs + 1\n",
    "    i = i + 1"
   ]
  },
  {
   "cell_type": "code",
   "execution_count": null,
   "metadata": {},
   "outputs": [],
   "source": [
    "to_add"
   ]
  },
  {
   "cell_type": "code",
   "execution_count": null,
   "metadata": {},
   "outputs": [],
   "source": [
    "sp.user_playlist_add_tracks(\"5865b9eadfc54092\", \"7FoNW55Sdf38eY23BcQCDp\", to_add)"
   ]
  }
 ],
 "metadata": {
  "kernelspec": {
   "display_name": "Python 3",
   "language": "python",
   "name": "python3"
  },
  "language_info": {
   "codemirror_mode": {
    "name": "ipython",
    "version": 3
   },
   "file_extension": ".py",
   "mimetype": "text/x-python",
   "name": "python",
   "nbconvert_exporter": "python",
   "pygments_lexer": "ipython3",
   "version": "3.12.3"
  }
 },
 "nbformat": 4,
 "nbformat_minor": 2
}
